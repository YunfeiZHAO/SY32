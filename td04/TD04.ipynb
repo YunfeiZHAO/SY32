{
 "cells": [
  {
   "cell_type": "markdown",
   "metadata": {},
   "source": [
    "# Detector Evaluation"
   ]
  },
  {
   "cell_type": "code",
   "execution_count": 354,
   "metadata": {},
   "outputs": [],
   "source": [
    "import numpy as np\n",
    "import pandas as pd\n",
    "import matplotlib.pyplot as plt"
   ]
  },
  {
   "cell_type": "code",
   "execution_count": null,
   "metadata": {},
   "outputs": [],
   "source": [
    "\"\"\" \n",
    "    Calculates the overlap area between two box\n",
    "    Parameters\n",
    "    ----------\n",
    "    k: image number\n",
    "    i, j: coordinate(row colonne) of the upper left corner of the box\n",
    "    h, l: size (height, width) of the box\n",
    "    s: detection score\n",
    "\"\"\""
   ]
  },
  {
   "cell_type": "code",
   "execution_count": 353,
   "metadata": {},
   "outputs": [],
   "source": [
    "class Box:\n",
    "    def __init__(self, n_image, i, j, h, l, s=0):\n",
    "        self.n_image = n_image\n",
    "        self.true_positive = False\n",
    "        self.x = j\n",
    "        self.y = i\n",
    "        self.height = h\n",
    "        self.width = l\n",
    "        self.score = s\n",
    "        \n",
    "    def __lt__(self, box):\n",
    "        return self.score < box.score\n",
    "    \n",
    "    def intersect_over_union(self, box):\n",
    "        width_intersect = min(self.x + self.width, box.x + box.width) - max(self.x, box.x)\n",
    "        height_intersect = min(self.y + self.height, box.y + box.height) - max(self.y, box.y)\n",
    "        # no overleap\n",
    "        if width_intersect <= 0 or height_intersect <=0:\n",
    "            return 0\n",
    "        else:\n",
    "            I = width_intersect * height_intersect\n",
    "            # Union = Total area - Intersection\n",
    "            U = self.height * self.width + box.height * box.width - I\n",
    "            return I / U    \n",
    "    # test if a box is true positive\n",
    "    def test_true_positive(self, label_box, rate = 0.5):\n",
    "        if self. intersect_over_union(label_box) > rate:\n",
    "            self.true_positive = True\n",
    "    \n",
    "class Image:\n",
    "    def __init__(self, number):\n",
    "        self.number = number\n",
    "        self.boxs = []\n",
    "    def add_box(self, box):\n",
    "        self.boxs.append(box)\n",
    "    # remove duplicate and keep only the one with the best score\n",
    "    def sort_boxs_by_score(self):\n",
    "        self.boxs.sort(key=lambda box: box.score, reverse=True)\n",
    "    def remove_duplicates_boxs(self, rate=0.5):\n",
    "        self.sort_boxs_by_score()\n",
    "        for box_1 in self.boxs:\n",
    "            for box_2 in self.boxs[self.boxs.index(box_1) + 1 :]:\n",
    "                if box_1.intersect_over_union(box_2) > rate:\n",
    "                    self.boxs.remove(box_2)"
   ]
  },
  {
   "cell_type": "code",
   "execution_count": 362,
   "metadata": {},
   "outputs": [],
   "source": [
    "class detector_evaluation:\n",
    "    def __init__(self):\n",
    "        # data trating\n",
    "        colnames=['n_image', 'i', 'j', 'h', 'l', 's'] \n",
    "        self.result_train = pd.read_csv(\"results_train_500.txt\", sep=' ', names=colnames, header=None, index_col=0)\n",
    "        self.box_set = {}\n",
    "        self.labels_train =   pd.read_csv(\"/Users/yunfei/Desktop/GI05/SY32/projet/project_train/label_train.txt\", sep=' ', names=[\"n_image\", \"i\", \"j\", \"h\", \"l\"], header=None, index_col=0)\n",
    "        for n_image, values in self.result_train.iterrows():\n",
    "            if self.box_set.get(n_image):\n",
    "                self.box_set.get(n_image).add_box(Box(n_image, values.i, values.j, values.h, values.l, values.s))\n",
    "            else:\n",
    "                image = Image(n_image)\n",
    "                image.add_box(Box(n_image, values.i, values.j, values.h, values.l, values.s))\n",
    "                self.box_set[n_image] = image\n",
    "        # remove duplicate image and defin true positive\n",
    "        for image in self.box_set.values():\n",
    "            image.remove_duplicates_boxs()\n",
    "            TP_boxs = self.labels_train.loc[[image.number]]\n",
    "            for TP_box in TP_boxs.values:\n",
    "                for box in image.boxs:\n",
    "                    box.test_true_positive(\n",
    "                        Box(\n",
    "                            image.number,\n",
    "                            TP_box[0],\n",
    "                            TP_box[1],\n",
    "                            TP_box[2],\n",
    "                            TP_box[3]\n",
    "                        )\n",
    "                    )\n",
    "        \n",
    "    # count number of boxs in the box_set\n",
    "    def count(self):\n",
    "        return sum(len(image.boxs) for image in self.box_set.values())\n",
    "    def count_FN(self):\n",
    "        return sum(box.true_positive for images in self.box_set.values() for box in images.boxs)\n",
    "    # precision and recall analyse\n",
    "    def prec_rec(self):  \n",
    "        len_images = self.count()\n",
    "        self.prec = np.zeros(len_images)\n",
    "        self.rec = np.zeros(len_images)\n",
    "        TP = 0\n",
    "        FP = 0\n",
    "        FN = self.count_FN()\n",
    "        boxs = []\n",
    "        for images in self.box_set.values():\n",
    "            for box in images.boxs:\n",
    "                boxs.append(box)\n",
    "        idx = np.argsort(boxs)\n",
    "        for k, i in enumerate(idx):\n",
    "            if boxs[i].true_positive == True:\n",
    "                TP += 1\n",
    "                FN -= 1\n",
    "            else:\n",
    "                FP +=1\n",
    "            self.prec[k] = TP/(TP + FP)\n",
    "            self.rec[k] = TP/(TP + FN)\n",
    "        plt.plot(self.rec, self.prec)\n",
    "        plt.xlim((0,1))\n",
    "        plt.ylim((0,1))\n",
    "        plt.xlabel('Rappel')\n",
    "        plt.ylabel('Précision')\n",
    "        plt.show()\n",
    "    \n",
    "        \n",
    "                \n",
    "                "
   ]
  },
  {
   "cell_type": "code",
   "execution_count": 352,
   "metadata": {},
   "outputs": [
    {
     "data": {
      "text/plain": [
       "array([0, 2, 1])"
      ]
     },
     "execution_count": 352,
     "metadata": {},
     "output_type": "execute_result"
    }
   ],
   "source": [
    "class A:\n",
    "    def __init__(self, v):\n",
    "        self.v = v\n",
    "    def __lt__(self, a):\n",
    "        return self.v<a.v\n",
    "        \n",
    "b = A(1)\n",
    "c = A(2)\n",
    "d = A(3)\n",
    "k = []\n",
    "k.append(b)\n",
    "k.append(d)\n",
    "k.append(c)\n",
    "idx = np.argsort(k)\n",
    "idx"
   ]
  },
  {
   "cell_type": "code",
   "execution_count": 293,
   "metadata": {},
   "outputs": [
    {
     "data": {
      "text/plain": [
       "pandas.core.frame.DataFrame"
      ]
     },
     "execution_count": 293,
     "metadata": {},
     "output_type": "execute_result"
    }
   ],
   "source": [
    "labels_train =   pd.read_csv(\"/Users/yunfei/Desktop/GI05/SY32/projet/project_train/label_train.txt\", sep=' ', names=[\"n_image\", \"i\", \"j\", \"h\", \"l\"], header=None, index_col=0)\n",
    "a = 501\n",
    "t = labels_train.loc[[a]]\n",
    "type(t)\n"
   ]
  },
  {
   "cell_type": "code",
   "execution_count": 363,
   "metadata": {},
   "outputs": [
    {
     "data": {
      "image/png": "[encoded data removed]",
      "text/plain": [
       "<Figure size 432x288 with 1 Axes>"
      ]
     },
     "metadata": {
      "needs_background": "light"
     },
     "output_type": "display_data"
    }
   ],
   "source": [
    "if __name__==\"__main__\":\n",
    "    de = detector_evaluation()\n",
    "    de.prec_rec()"
   ]
  },
  {
   "cell_type": "code",
   "execution_count": 308,
   "metadata": {},
   "outputs": [
    {
     "data": {
      "text/plain": [
       "11"
      ]
     },
     "execution_count": 308,
     "metadata": {},
     "output_type": "execute_result"
    }
   ],
   "source": [
    "result_train = pd.read_csv(\"results_train_500.txt\", sep=' ', names=colnames, header=None, index_col=0)\n",
    "len(result_train.loc[[501]])\n",
    "\n",
    "\n",
    "\n"
   ]
  },
  {
   "cell_type": "code",
   "execution_count": 322,
   "metadata": {},
   "outputs": [
    {
     "name": "stdout",
     "output_type": "stream",
     "text": [
      "False\n",
      "True\n",
      "True\n",
      "False\n",
      "False\n",
      "False\n",
      "False\n",
      "False\n",
      "False\n"
     ]
    },
    {
     "ename": "IndexError",
     "evalue": "list index out of range",
     "output_type": "error",
     "traceback": [
      "\u001b[0;31m---------------------------------------------------------------------------\u001b[0m",
      "\u001b[0;31mIndexError\u001b[0m                                Traceback (most recent call last)",
      "\u001b[0;32m<ipython-input-322-3128d15e5b41>\u001b[0m in \u001b[0;36m<module>\u001b[0;34m\u001b[0m\n\u001b[1;32m      1\u001b[0m \u001b[0;32mfor\u001b[0m \u001b[0mi\u001b[0m \u001b[0;32min\u001b[0m \u001b[0mrange\u001b[0m\u001b[0;34m(\u001b[0m\u001b[0;36m11\u001b[0m\u001b[0;34m)\u001b[0m\u001b[0;34m:\u001b[0m\u001b[0;34m\u001b[0m\u001b[0;34m\u001b[0m\u001b[0m\n\u001b[0;32m----> 2\u001b[0;31m     \u001b[0mprint\u001b[0m\u001b[0;34m(\u001b[0m\u001b[0mde\u001b[0m\u001b[0;34m.\u001b[0m\u001b[0mbox_set\u001b[0m\u001b[0;34m[\u001b[0m\u001b[0;36m502\u001b[0m\u001b[0;34m]\u001b[0m\u001b[0;34m.\u001b[0m\u001b[0mboxs\u001b[0m\u001b[0;34m[\u001b[0m\u001b[0mi\u001b[0m\u001b[0;34m]\u001b[0m\u001b[0;34m.\u001b[0m\u001b[0mtrue_positive\u001b[0m\u001b[0;34m)\u001b[0m\u001b[0;34m\u001b[0m\u001b[0;34m\u001b[0m\u001b[0m\n\u001b[0m",
      "\u001b[0;31mIndexError\u001b[0m: list index out of range"
     ]
    }
   ],
   "source": [
    "for i in range(11):\n",
    "    print(de.box_set[502].boxs[i].true_positive)"
   ]
  },
  {
   "cell_type": "code",
   "execution_count": 325,
   "metadata": {},
   "outputs": [
    {
     "name": "stdout",
     "output_type": "stream",
     "text": [
      "(0, 1)\n",
      "(1, 2)\n",
      "(2, 3)\n"
     ]
    }
   ],
   "source": [
    "for i in enumerate([1,2,3]):\n",
    "    print(i)"
   ]
  },
  {
   "cell_type": "code",
   "execution_count": null,
   "metadata": {},
   "outputs": [],
   "source": []
  },
  {
   "cell_type": "code",
   "execution_count": null,
   "metadata": {},
   "outputs": [],
   "source": []
  },
  {
   "cell_type": "code",
   "execution_count": null,
   "metadata": {},
   "outputs": [],
   "source": []
  },
  {
   "cell_type": "code",
   "execution_count": null,
   "metadata": {},
   "outputs": [],
   "source": []
  },
  {
   "cell_type": "code",
   "execution_count": null,
   "metadata": {},
   "outputs": [],
   "source": []
  },
  {
   "cell_type": "code",
   "execution_count": null,
   "metadata": {},
   "outputs": [],
   "source": []
  },
  {
   "cell_type": "code",
   "execution_count": null,
   "metadata": {},
   "outputs": [],
   "source": []
  },
  {
   "cell_type": "code",
   "execution_count": null,
   "metadata": {},
   "outputs": [],
   "source": []
  },
  {
   "cell_type": "code",
   "execution_count": null,
   "metadata": {},
   "outputs": [],
   "source": []
  },
  {
   "cell_type": "code",
   "execution_count": null,
   "metadata": {},
   "outputs": [],
   "source": []
  }
 ],
 "metadata": {
  "kernelspec": {
   "display_name": "sy32",
   "language": "python",
   "name": "sy32"
  },
  "language_info": {
   "codemirror_mode": {
    "name": "ipython",
    "version": 3
   },
   "file_extension": ".py",
   "mimetype": "text/x-python",
   "name": "python",
   "nbconvert_exporter": "python",
   "pygments_lexer": "ipython3",
   "version": "3.7.6"
  }
 },
 "nbformat": 4,
 "nbformat_minor": 4
}
