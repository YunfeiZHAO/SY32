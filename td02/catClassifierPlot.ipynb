{
 "cells": [
  {
   "cell_type": "code",
   "execution_count": 1,
   "metadata": {},
   "outputs": [
    {
     "name": "stdout",
     "output_type": "stream",
     "text": [
      "/Users/yunfei/Desktop/GI05/SY32/td01\n",
      "/Users/yunfei/Desktop/GI05/SY32/td02\n"
     ]
    }
   ],
   "source": [
    "%cd /Users/yunfei/Desktop/GI05/SY32/td01\n",
    "%run catClassifier.ipynb\n",
    "%cd /Users/yunfei/Desktop/GI05/SY32/td02"
   ]
  },
  {
   "cell_type": "code",
   "execution_count": 1,
   "metadata": {},
   "outputs": [],
   "source": [
    "import numpy as np\n",
    "import matplotlib.pyplot as plt\n",
    "# from catClassifier import CatClassifier"
   ]
  },
  {
   "cell_type": "code",
   "execution_count": 2,
   "metadata": {},
   "outputs": [],
   "source": [
    "def plotCatClassifier(clf, xlim=(0,10), ylim=(40, 56), xstep=0.1, ystep=0.1):\n",
    "    # Génère une grille d'instances de X\n",
    "    x = np.arange(xlim[0], xlim[1], xstep)\n",
    "    y = np.arange(ylim[0], ylim[1], ystep)\n",
    "    x_ = np.repeat(x, len(y))\n",
    "    y_ = np.tile(y, len(x))\n",
    "    X = np.column_stack((x_,y_))\n",
    "    # Prédit la classe de X\n",
    "    Y = clf.predict(X)\n",
    "    # Trace le graphe de prédiction\n",
    "    plt.figure()\n",
    "    plt.plot(X[Y<0,0], X[Y<0,1], 'rs')\n",
    "    plt.plot(X[Y>0,0], X[Y>0,1], 'bs')\n",
    "    plt.legend(('Type A', 'Type B'))\n",
    "    plt.show()"
   ]
  },
  {
   "cell_type": "code",
   "execution_count": 3,
   "metadata": {},
   "outputs": [
    {
     "data": {
      "text/plain": [
       "<__main__.CatClassifierMultiDim at 0x1a1fb4a150>"
      ]
     },
     "execution_count": 3,
     "metadata": {},
     "output_type": "execute_result"
    },
    {
     "data": {
      "image/png": "[encoded data removed]",
      "text/plain": [
       "<Figure size 432x288 with 1 Axes>"
      ]
     },
     "metadata": {
      "needs_background": "light"
     },
     "output_type": "display_data"
    }
   ],
   "source": [
    "if __name__ == \"__main__\":\n",
    "    X_train = np.loadtxt('/Users/yunfei/Desktop/GI05/SY32/td02/data/SY32_P20_TD02_data_X_train.csv', ndmin=2)\n",
    "    y_train = np.loadtxt('/Users/yunfei/Desktop/GI05/SY32/td02/data/SY32_P20_TD02_data_y_train.csv')\n",
    "    clf = CatClassifierMultiDim()\n",
    "    clf.fit(X_train, y_train)\n",
    "    plotCatClassifier(clf)"
   ]
  }
 ],
 "metadata": {
  "kernelspec": {
   "display_name": "sy32",
   "language": "python",
   "name": "sy32"
  },
  "language_info": {
   "codemirror_mode": {
    "name": "ipython",
    "version": 3
   },
   "file_extension": ".py",
   "mimetype": "text/x-python",
   "name": "python",
   "nbconvert_exporter": "python",
   "pygments_lexer": "ipython3",
   "version": "3.7.6"
  }
 },
 "nbformat": 4,
 "nbformat_minor": 4
}
